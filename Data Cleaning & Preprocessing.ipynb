{
 "cells": [
  {
   "attachments": {},
   "cell_type": "markdown",
   "id": "0ba4a3bd",
   "metadata": {},
   "source": [
    "## Importing the libraries and dataset"
   ]
  },
  {
   "cell_type": "code",
   "execution_count": 27,
   "id": "f2c27fec",
   "metadata": {},
   "outputs": [],
   "source": [
    "#Import libraries\n",
    "import numpy as np\n",
    "import pandas as pd\n",
    "import warnings\n",
    "warnings.filterwarnings('ignore')"
   ]
  },
  {
   "cell_type": "code",
   "execution_count": 28,
   "id": "34ed52f5",
   "metadata": {},
   "outputs": [
    {
     "data": {
      "text/html": [
       "<div>\n",
       "<style scoped>\n",
       "    .dataframe tbody tr th:only-of-type {\n",
       "        vertical-align: middle;\n",
       "    }\n",
       "\n",
       "    .dataframe tbody tr th {\n",
       "        vertical-align: top;\n",
       "    }\n",
       "\n",
       "    .dataframe thead th {\n",
       "        text-align: right;\n",
       "    }\n",
       "</style>\n",
       "<table border=\"1\" class=\"dataframe\">\n",
       "  <thead>\n",
       "    <tr style=\"text-align: right;\">\n",
       "      <th></th>\n",
       "      <th>address</th>\n",
       "      <th>name</th>\n",
       "      <th>online_order</th>\n",
       "      <th>book_table</th>\n",
       "      <th>rate</th>\n",
       "      <th>votes</th>\n",
       "      <th>phone</th>\n",
       "      <th>location</th>\n",
       "      <th>rest_type</th>\n",
       "      <th>dish_liked</th>\n",
       "      <th>cuisines</th>\n",
       "      <th>approx_cost(for two people)</th>\n",
       "      <th>listed_in(type)</th>\n",
       "    </tr>\n",
       "  </thead>\n",
       "  <tbody>\n",
       "    <tr>\n",
       "      <th>0</th>\n",
       "      <td>942, 21st Main Road, 2nd Stage, Banashankari, ...</td>\n",
       "      <td>Jalsa</td>\n",
       "      <td>Yes</td>\n",
       "      <td>Yes</td>\n",
       "      <td>4.1/5</td>\n",
       "      <td>775</td>\n",
       "      <td>080 42297555\\r\\n+91 9743772233</td>\n",
       "      <td>Banashankari</td>\n",
       "      <td>Casual Dining</td>\n",
       "      <td>Pasta, Lunch Buffet, Masala Papad, Paneer Laja...</td>\n",
       "      <td>North Indian, Mughlai, Chinese</td>\n",
       "      <td>800</td>\n",
       "      <td>Buffet</td>\n",
       "    </tr>\n",
       "    <tr>\n",
       "      <th>1</th>\n",
       "      <td>2nd Floor, 80 Feet Road, Near Big Bazaar, 6th ...</td>\n",
       "      <td>Spice Elephant</td>\n",
       "      <td>Yes</td>\n",
       "      <td>No</td>\n",
       "      <td>4.1/5</td>\n",
       "      <td>787</td>\n",
       "      <td>080 41714161</td>\n",
       "      <td>Banashankari</td>\n",
       "      <td>Casual Dining</td>\n",
       "      <td>Momos, Lunch Buffet, Chocolate Nirvana, Thai G...</td>\n",
       "      <td>Chinese, North Indian, Thai</td>\n",
       "      <td>800</td>\n",
       "      <td>Buffet</td>\n",
       "    </tr>\n",
       "  </tbody>\n",
       "</table>\n",
       "</div>"
      ],
      "text/plain": [
       "                                             address            name  \\\n",
       "0  942, 21st Main Road, 2nd Stage, Banashankari, ...           Jalsa   \n",
       "1  2nd Floor, 80 Feet Road, Near Big Bazaar, 6th ...  Spice Elephant   \n",
       "\n",
       "  online_order book_table   rate votes                           phone  \\\n",
       "0          Yes        Yes  4.1/5   775  080 42297555\\r\\n+91 9743772233   \n",
       "1          Yes         No  4.1/5   787                    080 41714161   \n",
       "\n",
       "       location      rest_type  \\\n",
       "0  Banashankari  Casual Dining   \n",
       "1  Banashankari  Casual Dining   \n",
       "\n",
       "                                          dish_liked  \\\n",
       "0  Pasta, Lunch Buffet, Masala Papad, Paneer Laja...   \n",
       "1  Momos, Lunch Buffet, Chocolate Nirvana, Thai G...   \n",
       "\n",
       "                         cuisines approx_cost(for two people) listed_in(type)  \n",
       "0  North Indian, Mughlai, Chinese                         800          Buffet  \n",
       "1     Chinese, North Indian, Thai                         800          Buffet  "
      ]
     },
     "execution_count": 28,
     "metadata": {},
     "output_type": "execute_result"
    }
   ],
   "source": [
    "#Importing the food delivery app (Zomato) dataset\n",
    "zomato = pd.read_csv('zomato.csv')\n",
    "zomato.head(2)"
   ]
  },
  {
   "cell_type": "code",
   "execution_count": 29,
   "id": "aa8ff672",
   "metadata": {},
   "outputs": [
    {
     "data": {
      "text/plain": [
       "((56252, 13), 731276)"
      ]
     },
     "execution_count": 29,
     "metadata": {},
     "output_type": "execute_result"
    }
   ],
   "source": [
    "zomato.shape,zomato.size"
   ]
  },
  {
   "cell_type": "code",
   "execution_count": 30,
   "id": "0fdb529e",
   "metadata": {},
   "outputs": [
    {
     "data": {
      "text/html": [
       "<div>\n",
       "<style scoped>\n",
       "    .dataframe tbody tr th:only-of-type {\n",
       "        vertical-align: middle;\n",
       "    }\n",
       "\n",
       "    .dataframe tbody tr th {\n",
       "        vertical-align: top;\n",
       "    }\n",
       "\n",
       "    .dataframe thead th {\n",
       "        text-align: right;\n",
       "    }\n",
       "</style>\n",
       "<table border=\"1\" class=\"dataframe\">\n",
       "  <thead>\n",
       "    <tr style=\"text-align: right;\">\n",
       "      <th></th>\n",
       "      <th>address</th>\n",
       "      <th>name</th>\n",
       "      <th>online_order</th>\n",
       "      <th>book_table</th>\n",
       "      <th>rate</th>\n",
       "      <th>votes</th>\n",
       "      <th>phone</th>\n",
       "      <th>location</th>\n",
       "      <th>rest_type</th>\n",
       "      <th>dish_liked</th>\n",
       "      <th>cuisines</th>\n",
       "      <th>approx_cost(for two people)</th>\n",
       "      <th>listed_in(type)</th>\n",
       "    </tr>\n",
       "  </thead>\n",
       "  <tbody>\n",
       "    <tr>\n",
       "      <th>count</th>\n",
       "      <td>56235</td>\n",
       "      <td>56236</td>\n",
       "      <td>56233</td>\n",
       "      <td>56194</td>\n",
       "      <td>48414</td>\n",
       "      <td>56174</td>\n",
       "      <td>54956</td>\n",
       "      <td>56126</td>\n",
       "      <td>55914</td>\n",
       "      <td>28027</td>\n",
       "      <td>56049</td>\n",
       "      <td>55731</td>\n",
       "      <td>51642</td>\n",
       "    </tr>\n",
       "    <tr>\n",
       "      <th>unique</th>\n",
       "      <td>13397</td>\n",
       "      <td>11914</td>\n",
       "      <td>2639</td>\n",
       "      <td>2902</td>\n",
       "      <td>2877</td>\n",
       "      <td>5195</td>\n",
       "      <td>17712</td>\n",
       "      <td>2920</td>\n",
       "      <td>2961</td>\n",
       "      <td>8067</td>\n",
       "      <td>5553</td>\n",
       "      <td>2879</td>\n",
       "      <td>2783</td>\n",
       "    </tr>\n",
       "    <tr>\n",
       "      <th>top</th>\n",
       "      <td>('Rated 4.0'</td>\n",
       "      <td>('Rated 4.0'</td>\n",
       "      <td>Yes</td>\n",
       "      <td>No</td>\n",
       "      <td>NEW</td>\n",
       "      <td>0</td>\n",
       "      <td>('Rated 4.0'</td>\n",
       "      <td>BTM</td>\n",
       "      <td>Quick Bites</td>\n",
       "      <td>('Rated 4.0'</td>\n",
       "      <td>North Indian</td>\n",
       "      <td>300</td>\n",
       "      <td>Delivery</td>\n",
       "    </tr>\n",
       "    <tr>\n",
       "      <th>freq</th>\n",
       "      <td>942</td>\n",
       "      <td>300</td>\n",
       "      <td>30444</td>\n",
       "      <td>45268</td>\n",
       "      <td>2208</td>\n",
       "      <td>10027</td>\n",
       "      <td>412</td>\n",
       "      <td>5125</td>\n",
       "      <td>19132</td>\n",
       "      <td>407</td>\n",
       "      <td>2913</td>\n",
       "      <td>7576</td>\n",
       "      <td>24317</td>\n",
       "    </tr>\n",
       "  </tbody>\n",
       "</table>\n",
       "</div>"
      ],
      "text/plain": [
       "              address           name online_order book_table   rate  votes  \\\n",
       "count           56235          56236        56233      56194  48414  56174   \n",
       "unique          13397          11914         2639       2902   2877   5195   \n",
       "top      ('Rated 4.0'   ('Rated 4.0'          Yes         No    NEW      0   \n",
       "freq              942            300        30444      45268   2208  10027   \n",
       "\n",
       "                phone location    rest_type     dish_liked      cuisines  \\\n",
       "count           54956    56126        55914          28027         56049   \n",
       "unique          17712     2920         2961           8067          5553   \n",
       "top      ('Rated 4.0'      BTM  Quick Bites   ('Rated 4.0'  North Indian   \n",
       "freq              412     5125        19132            407          2913   \n",
       "\n",
       "       approx_cost(for two people) listed_in(type)  \n",
       "count                        55731           51642  \n",
       "unique                        2879            2783  \n",
       "top                            300        Delivery  \n",
       "freq                          7576           24317  "
      ]
     },
     "execution_count": 30,
     "metadata": {},
     "output_type": "execute_result"
    }
   ],
   "source": [
    "zomato.describe()"
   ]
  },
  {
   "cell_type": "code",
   "execution_count": 31,
   "id": "d03883c7",
   "metadata": {},
   "outputs": [
    {
     "name": "stdout",
     "output_type": "stream",
     "text": [
      "<class 'pandas.core.frame.DataFrame'>\n",
      "RangeIndex: 56252 entries, 0 to 56251\n",
      "Data columns (total 13 columns):\n",
      " #   Column                       Non-Null Count  Dtype \n",
      "---  ------                       --------------  ----- \n",
      " 0   address                      56235 non-null  object\n",
      " 1   name                         56236 non-null  object\n",
      " 2   online_order                 56233 non-null  object\n",
      " 3   book_table                   56194 non-null  object\n",
      " 4   rate                         48414 non-null  object\n",
      " 5   votes                        56174 non-null  object\n",
      " 6   phone                        54956 non-null  object\n",
      " 7   location                     56126 non-null  object\n",
      " 8   rest_type                    55914 non-null  object\n",
      " 9   dish_liked                   28027 non-null  object\n",
      " 10  cuisines                     56049 non-null  object\n",
      " 11  approx_cost(for two people)  55731 non-null  object\n",
      " 12  listed_in(type)              51642 non-null  object\n",
      "dtypes: object(13)\n",
      "memory usage: 5.6+ MB\n"
     ]
    }
   ],
   "source": [
    "zomato.info()"
   ]
  },
  {
   "attachments": {},
   "cell_type": "markdown",
   "id": "4a3c42fd",
   "metadata": {},
   "source": [
    "## Task 1: Renaming and selecting colums and their data types\n",
    "Only these columns are allowed in the dataset:<br>\n",
    "1.Id 2.Name 3.online_order 4.book_table 5.rating 6.votes 7.location 8.rest_type 9.dish_liked 10.cuisines 11.approx_cost 12.type"
   ]
  },
  {
   "cell_type": "code",
   "execution_count": 32,
   "id": "12ce5924",
   "metadata": {},
   "outputs": [
    {
     "data": {
      "text/plain": [
       "Index(['address', 'name', 'online_order', 'book_table', 'rate', 'votes',\n",
       "       'phone', 'location', 'rest_type', 'dish_liked', 'cuisines',\n",
       "       'approx_cost(for two people)', 'listed_in(type)', 'Id'],\n",
       "      dtype='object')"
      ]
     },
     "execution_count": 32,
     "metadata": {},
     "output_type": "execute_result"
    }
   ],
   "source": [
    "zomato['Id'] = zomato.index\n",
    "zomato.columns"
   ]
  },
  {
   "cell_type": "code",
   "execution_count": 33,
   "id": "6818b91a",
   "metadata": {},
   "outputs": [
    {
     "data": {
      "text/html": [
       "<div>\n",
       "<style scoped>\n",
       "    .dataframe tbody tr th:only-of-type {\n",
       "        vertical-align: middle;\n",
       "    }\n",
       "\n",
       "    .dataframe tbody tr th {\n",
       "        vertical-align: top;\n",
       "    }\n",
       "\n",
       "    .dataframe thead th {\n",
       "        text-align: right;\n",
       "    }\n",
       "</style>\n",
       "<table border=\"1\" class=\"dataframe\">\n",
       "  <thead>\n",
       "    <tr style=\"text-align: right;\">\n",
       "      <th></th>\n",
       "      <th>Id</th>\n",
       "      <th>Name</th>\n",
       "      <th>online_order</th>\n",
       "      <th>book_table</th>\n",
       "      <th>rating</th>\n",
       "      <th>votes</th>\n",
       "      <th>location</th>\n",
       "      <th>rest_type</th>\n",
       "      <th>dish_liked</th>\n",
       "      <th>cuisines</th>\n",
       "      <th>approx_cost</th>\n",
       "      <th>type</th>\n",
       "    </tr>\n",
       "  </thead>\n",
       "  <tbody>\n",
       "    <tr>\n",
       "      <th>0</th>\n",
       "      <td>0</td>\n",
       "      <td>Jalsa</td>\n",
       "      <td>Yes</td>\n",
       "      <td>Yes</td>\n",
       "      <td>4.1/5</td>\n",
       "      <td>775</td>\n",
       "      <td>Banashankari</td>\n",
       "      <td>Casual Dining</td>\n",
       "      <td>Pasta, Lunch Buffet, Masala Papad, Paneer Laja...</td>\n",
       "      <td>North Indian, Mughlai, Chinese</td>\n",
       "      <td>800</td>\n",
       "      <td>Buffet</td>\n",
       "    </tr>\n",
       "    <tr>\n",
       "      <th>1</th>\n",
       "      <td>1</td>\n",
       "      <td>Spice Elephant</td>\n",
       "      <td>Yes</td>\n",
       "      <td>No</td>\n",
       "      <td>4.1/5</td>\n",
       "      <td>787</td>\n",
       "      <td>Banashankari</td>\n",
       "      <td>Casual Dining</td>\n",
       "      <td>Momos, Lunch Buffet, Chocolate Nirvana, Thai G...</td>\n",
       "      <td>Chinese, North Indian, Thai</td>\n",
       "      <td>800</td>\n",
       "      <td>Buffet</td>\n",
       "    </tr>\n",
       "  </tbody>\n",
       "</table>\n",
       "</div>"
      ],
      "text/plain": [
       "   Id            Name online_order book_table rating votes      location  \\\n",
       "0   0           Jalsa          Yes        Yes  4.1/5   775  Banashankari   \n",
       "1   1  Spice Elephant          Yes         No  4.1/5   787  Banashankari   \n",
       "\n",
       "       rest_type                                         dish_liked  \\\n",
       "0  Casual Dining  Pasta, Lunch Buffet, Masala Papad, Paneer Laja...   \n",
       "1  Casual Dining  Momos, Lunch Buffet, Chocolate Nirvana, Thai G...   \n",
       "\n",
       "                         cuisines approx_cost    type  \n",
       "0  North Indian, Mughlai, Chinese         800  Buffet  \n",
       "1     Chinese, North Indian, Thai         800  Buffet  "
      ]
     },
     "execution_count": 33,
     "metadata": {},
     "output_type": "execute_result"
    }
   ],
   "source": [
    "allowed_columns_order = ['Id','name','online_order','book_table','rate','votes','location','rest_type','dish_liked',\n",
    "                        'cuisines','approx_cost(for two people)','listed_in(type)']\n",
    "\n",
    "cleaned_zomato = zomato[allowed_columns_order]\n",
    "cleaned_zomato.columns = ['Id','Name','online_order','book_table','rating','votes','location','rest_type','dish_liked',\n",
    "                        'cuisines','approx_cost','type']\n",
    "cleaned_zomato.head(2)"
   ]
  },
  {
   "cell_type": "code",
   "execution_count": 34,
   "id": "b7e67914",
   "metadata": {},
   "outputs": [
    {
     "name": "stdout",
     "output_type": "stream",
     "text": [
      "<class 'pandas.core.frame.DataFrame'>\n",
      "RangeIndex: 56252 entries, 0 to 56251\n",
      "Data columns (total 12 columns):\n",
      " #   Column        Non-Null Count  Dtype \n",
      "---  ------        --------------  ----- \n",
      " 0   Id            56252 non-null  int64 \n",
      " 1   Name          56236 non-null  object\n",
      " 2   online_order  56233 non-null  object\n",
      " 3   book_table    56194 non-null  object\n",
      " 4   rating        48414 non-null  object\n",
      " 5   votes         56174 non-null  object\n",
      " 6   location      56126 non-null  object\n",
      " 7   rest_type     55914 non-null  object\n",
      " 8   dish_liked    28027 non-null  object\n",
      " 9   cuisines      56049 non-null  object\n",
      " 10  approx_cost   55731 non-null  object\n",
      " 11  type          51642 non-null  object\n",
      "dtypes: int64(1), object(11)\n",
      "memory usage: 5.2+ MB\n"
     ]
    }
   ],
   "source": [
    "cleaned_zomato.info()"
   ]
  },
  {
   "attachments": {},
   "cell_type": "markdown",
   "id": "00fca909",
   "metadata": {},
   "source": [
    "## Task 2: Dealing with null values"
   ]
  },
  {
   "cell_type": "code",
   "execution_count": 35,
   "id": "517aa4b0",
   "metadata": {},
   "outputs": [
    {
     "data": {
      "text/plain": [
       "Id               0.000000\n",
       "Name             0.028443\n",
       "online_order     0.033777\n",
       "book_table       0.103107\n",
       "rating          13.933727\n",
       "votes            0.138662\n",
       "location         0.223992\n",
       "rest_type        0.600868\n",
       "dish_liked      50.175994\n",
       "cuisines         0.360876\n",
       "approx_cost      0.926189\n",
       "type             8.195264\n",
       "dtype: float64"
      ]
     },
     "execution_count": 35,
     "metadata": {},
     "output_type": "execute_result"
    }
   ],
   "source": [
    "# percentage of null values\n",
    "(cleaned_zomato.isna().sum() / len(cleaned_zomato))*100"
   ]
  },
  {
   "cell_type": "code",
   "execution_count": 36,
   "id": "3977b74a",
   "metadata": {},
   "outputs": [
    {
     "data": {
      "text/plain": [
       "Id              0\n",
       "Name            0\n",
       "online_order    0\n",
       "book_table      0\n",
       "rating          0\n",
       "votes           0\n",
       "location        0\n",
       "rest_type       0\n",
       "dish_liked      0\n",
       "cuisines        0\n",
       "approx_cost     0\n",
       "type            0\n",
       "dtype: int64"
      ]
     },
     "execution_count": 36,
     "metadata": {},
     "output_type": "execute_result"
    }
   ],
   "source": [
    "#Dropping nullvalues from name column\n",
    "cleaned_zomato['Name'].dropna(inplace=True)\n",
    "\n",
    "#Replacing null values with 'NA' except for rating, votes, approx_cost, where its replaced with 0\n",
    "for i in cleaned_zomato.columns:\n",
    "    if i in ['rating', 'votes', 'approx_cost']:\n",
    "        cleaned_zomato[i].fillna(0,inplace=True)\n",
    "    else:\n",
    "        cleaned_zomato[i].fillna('NA',inplace=True)\n",
    "        \n",
    "cleaned_zomato.isna().sum()"
   ]
  },
  {
   "attachments": {},
   "cell_type": "markdown",
   "id": "92e31165",
   "metadata": {},
   "source": [
    "## Task 3: Identifying duplicate data"
   ]
  },
  {
   "cell_type": "code",
   "execution_count": 37,
   "id": "d868c92e",
   "metadata": {},
   "outputs": [
    {
     "name": "stdout",
     "output_type": "stream",
     "text": [
      "40291\n"
     ]
    }
   ],
   "source": [
    "#There are no duplicates\n",
    "print(cleaned_zomato.duplicated(subset=['Name','location']).sum())\n",
    "\n",
    "cleaned_zomato.drop_duplicates(subset=['Name','location'],keep = 'last',inplace=True)"
   ]
  },
  {
   "attachments": {},
   "cell_type": "markdown",
   "id": "2a49c7b6",
   "metadata": {},
   "source": [
    "## Task 4: Text cleaning"
   ]
  },
  {
   "cell_type": "code",
   "execution_count": 38,
   "id": "d3e5afda",
   "metadata": {},
   "outputs": [
    {
     "name": "stdout",
     "output_type": "stream",
     "text": [
      "Id\n",
      "29       0.000063\n",
      "47923    0.000063\n",
      "47886    0.000063\n",
      "47889    0.000063\n",
      "47890    0.000063\n",
      "           ...   \n",
      "27890    0.000063\n",
      "27891    0.000063\n",
      "27892    0.000063\n",
      "27893    0.000063\n",
      "56251    0.000063\n",
      "Name: Id, Length: 15961, dtype: float64 \n",
      "\n",
      "Name\n",
      " ('Rated 4.0'                   0.012781\n",
      " ('Rated 5.0'                   0.009523\n",
      " ('Rated 3.0'                   0.005513\n",
      " ('Rated 1.0'                   0.002757\n",
      " ('Rated 3.5'                   0.002318\n",
      "                                  ...   \n",
      "Le Spice Restaurant             0.000063\n",
      "Aroma Spice                     0.000063\n",
      "My China                        0.000063\n",
      "Navami Kitchen                  0.000063\n",
      "The Nest - The Den Bengaluru    0.000063\n",
      "Name: Name, Length: 11915, dtype: float64 \n",
      "\n",
      "online_order\n",
      "Yes                                                                                                                                                                                                                                                                                                                                                                                                                                                                                                                                                                                                                                                                                                                                                                                                                                                                                                                                                                                            0.386881\n",
      "No                                                                                                                                                                                                                                                                                                                                                                                                                                                                                                                                                                                                                                                                                                                                                                                                                                                                                                                                                                                             0.374413\n",
      " ('Rated 4.0'                                                                                                                                                                                                                                                                                                                                                                                                                                                                                                                                                                                                                                                                                                                                                                                                                                                                                                                                                                                  0.027003\n",
      " ('Rated 5.0'                                                                                                                                                                                                                                                                                                                                                                                                                                                                                                                                                                                                                                                                                                                                                                                                                                                                                                                                                                                  0.021991\n",
      " ('Rated 3.0'                                                                                                                                                                                                                                                                                                                                                                                                                                                                                                                                                                                                                                                                                                                                                                                                                                                                                                                                                                                  0.010526\n",
      "                                                                                                                                                                                                                                                                                                                                                                                                                                                                                                                                                                                                                                                                                                                                                                                                                                                                                                                                                                                                 ...   \n",
      " I would not recommend this place at all!\"\")                                                                                                                                                                                                                                                                                                                                                                                                                                                                                                                                                                                                                                                                                                                                                                                                                                                                                                                                                   0.000063\n",
      " sometimes the fish is not fresh!! Prices are decent!! Must visit if u crave for Malyali food!')                                                                                                                                                                                                                                                                                                                                                                                                                                                                                                                                                                                                                                                                                                                                                                                                                                                                                               0.000063\n",
      " 'RATED\\n  Pump house in jp nagar is the most happening place and also the talk of the town.\\n\\nAmbience - Damn this place is huge and also inside the heart of the city. The place is lit and always buzzing with people. They have one of the coolest lighting to offer. Two big huge fans cover the entire ceiling which looks great. Then it also has both indoor and outdoor seating.\\n\\nFood - Coming to the food we ordered the nachos and it was crispy and tasty with spicy touch also with cheese and salsa. The taste was damn good. Then was the kasundi paneer tikka which was very soft panner charred with mix of sauce. The paneer was fresh and very good. The arrabiatta pizza was good but no spiciness and also was bland with only tomatoes and a lot of garlic. Then we ordered the penne red sauce pasta which was good but not upto the mark.\\n\\nParking - Valet parking is available\\n\\nFood - 4/5\\nService - 4/5\\nAmbience - 5/5\\nPrice - 4/5\\n\\nHappy fooding.')    0.000063\n",
      " live counter for ice cream                                                                                                                                                                                                                                                                                                                                                                                                                                                                                                                                                                                                                                                                                                                                                                                                                                                                                                                                                                    0.000063\n",
      " 'RATED\\n  Beer cafe                                                                                                                                                                                                                                                                                                                                                                                                                                                                                                                                                                                                                                                                                                                                                                                                                                                                                                                                                                           0.000063\n",
      "Name: online_order, Length: 2432, dtype: float64 \n",
      "\n",
      "book_table\n",
      "No                                                                                                                                                                                                                                                                              0.701773\n",
      "Yes                                                                                                                                                                                                                                                                             0.059520\n",
      " ('Rated 4.0'                                                                                                                                                                                                                                                                   0.020487\n",
      " ('Rated 5.0'                                                                                                                                                                                                                                                                   0.016415\n",
      " ('Rated 3.0'                                                                                                                                                                                                                                                                   0.008020\n",
      "                                                                                                                                                                                                                                                                                  ...   \n",
      " 'RATED\\n  The reason I rated it as I did was when I visited this place the AC was not working which was a longtime back. The place is very well maintained great ambience and the food was worth the money. Overall a good place to have some well prepared Chinese food.')    0.000063\n",
      " 'RATED\\n  kebab not much good')                                                                                                                                                                                                                                                0.000063\n",
      " 'RATED\\n  Found this place on Zomato and as usual                                                                                                                                                                                                                              0.000063\n",
      " dahi Puri and Papdi chat. Biryani was flat                                                                                                                                                                                                                                     0.000063\n",
      "VR Bengaluru\\nBeen here a few times                                                                                                                                                                                                                                             0.000063\n",
      "Name: book_table, Length: 2798, dtype: float64 \n",
      "\n",
      "rating\n",
      "0                                                                                                                                                             0.152183\n",
      "3.7 /5                                                                                                                                                        0.039158\n",
      "3.9 /5                                                                                                                                                        0.038594\n",
      "3.8 /5                                                                                                                                                        0.038531\n",
      "3.6 /5                                                                                                                                                        0.034334\n",
      "                                                                                                                                                                ...   \n",
      " beer and quesadilla and tiramisu. Everything was good and served hot.\\nService: extremely courteous and helpful staff.\\nAll in all a great place to be!')    0.000063\n",
      " what they lack is trained staff and proper order taking and service                                                                                          0.000063\n",
      " 'RATED\\n  Today we just had an awesome                                                                                                                       0.000063\n",
      " 'RATED\\n  Good food and ambience                                                                                                                             0.000063\n",
      " small place                                                                                                                                                  0.000063\n",
      "Name: rating, Length: 2716, dtype: float64 \n",
      "\n",
      "votes\n",
      "0                                                                                                                                                                                                                                                                                                               0.185515\n",
      "4                                                                                                                                                                                                                                                                                                               0.022367\n",
      " ('Rated 4.0'                                                                                                                                                                                                                                                                                                   0.020174\n",
      " ('Rated 5.0'                                                                                                                                                                                                                                                                                                   0.017355\n",
      "6                                                                                                                                                                                                                                                                                                               0.016791\n",
      "                                                                                                                                                                                                                                                                                                                  ...   \n",
      " prices are worth it!')                                                                                                                                                                                                                                                                                         0.000063\n",
      " allowing me to try a handful the menu has to offer - an exciting Friday lunch with colleagues                                                                                                                                                                                                                  0.000063\n",
      " 'RATED\\n  JW kitchen food was delicious and I had such a great time                                                                                                                                                                                                                                            0.000063\n",
      " 'RATED\\n  Their desserts are really good. Tried Redvelvet Cheesecake and Brownie Bash here and really liked them both. The ambience is not much to be talked about and was decent. We just went in for a quick dessert session and the place was fully packed speaking of the demand for their offerings.')    0.000063\n",
      "1094                                                                                                                                                                                                                                                                                                            0.000063\n",
      "Name: votes, Length: 4002, dtype: float64 \n",
      "\n",
      "location\n",
      "Whitefield                                                                                                                                                                         0.051626\n",
      "BTM                                                                                                                                                                                0.043857\n",
      "Electronic City                                                                                                                                                                    0.043606\n",
      "HSR                                                                                                                                                                                0.042854\n",
      "Marathahalli                                                                                                                                                                       0.041288\n",
      "                                                                                                                                                                                     ...   \n",
      " 'RATED\\n  Good one                                                                                                                                                                0.000063\n",
      " 'RATED\\n  A vegetarian cafe very close to my place. Nice to hang out or catch up with someone. Pizzas n pastas are really nice. Love the cold coffee as well. Homely n neat.')    0.000063\n",
      " Sharma                                                                                                                                                                            0.000063\n",
      " \"\"RATED\\n  Located inside Ranga Shankar theatre                                                                                                                                   0.000063\n",
      " no complaints there\\nZomato gold on food makes it pocket friendly .')                                                                                                             0.000063\n",
      "Name: location, Length: 2921, dtype: float64 \n",
      "\n",
      "rest_type\n",
      "Quick Bites                                                                                                                                                                                                                                                             0.307687\n",
      "Casual Dining                                                                                                                                                                                                                                                           0.134390\n",
      "Delivery                                                                                                                                                                                                                                                                0.057828\n",
      "Takeaway, Delivery                                                                                                                                                                                                                                                      0.045674\n",
      "Dessert Parlor                                                                                                                                                                                                                                                          0.033582\n",
      "                                                                                                                                                                                                                                                                          ...   \n",
      "etc and have fun along.Had a 'Dwarf' burger and a 'Hell of a chocolate shake'.Burger was decent but the shake was amazing.\"\")                                                                                                                                           0.000063\n",
      " pizza to eat.\\nWe? had ordered a few mock tails as well: orange blossom                                                                                                                                                                                                0.000063\n",
      " 'RATED\\n  Crazy place. Always crowd then servers are good service good                                                                                                                                                                                                 0.000063\n",
      " 'RATED\\n  \"\"Chicken Oil Kababs\"\" are my favourite here. Reasonable and fits your pocket. College goers- A must for you. \"\"Ghee Rice\"\" / \"\"Butter Naan\"\" are really wholesome. The new dish \"\"Chicken Bharta\"\" really goes well with the \"\"Rumaali Roti\"\". Recommend    0.000063\n",
      " watermelon cocktail had no liquor and more squash\\n\\nVery dissapointing for a place which has decent ambience but can't serve decent cocktails with no liquor. Hoping for better drinks in future\"\")                                                                   0.000063\n",
      "Name: rest_type, Length: 2761, dtype: float64 \n",
      "\n",
      "dish_liked\n",
      "NA                                                                                  0.481737\n",
      " ('Rated 4.0'                                                                       0.021928\n",
      " ('Rated 5.0'                                                                       0.017355\n",
      " ('Rated 3.0'                                                                       0.008395\n",
      " ('Rated 1.0'                                                                       0.004448\n",
      "                                                                                      ...   \n",
      "Beer, Beef Chilli                                                                   0.000063\n",
      "Cocktails, Peri Peri Chicken, Meat Pizza, Mojito, Buffalo Wings, Beer, Burgers      0.000063\n",
      "Chips, Cocktails, Veg Platter, Murgh Platter, Draught Beer, Potato Wedges, Pizza    0.000063\n",
      "Pizza, Peri Peri Fries, Wheat Beer, Craft Beer, Chips, Stout, Chicken Burger        0.000063\n",
      "Cocktails, Pizza, Buttermilk                                                        0.000063\n",
      "Name: dish_liked, Length: 6891, dtype: float64 \n",
      "\n",
      "cuisines\n",
      "North Indian                                0.045486\n",
      "South Indian                                0.037153\n",
      "North Indian, Chinese                       0.036025\n",
      " ('Rated 4.0'                               0.021177\n",
      " ('Rated 5.0'                               0.018295\n",
      "                                              ...   \n",
      "Chinese, Pizza, Fast Food                   0.000063\n",
      "Juices, Beverages, Pizza, Fast Food         0.000063\n",
      "Chinese, South Indian, Biryani              0.000063\n",
      "Naga, Goan, Seafood, Chinese                0.000063\n",
      "North Indian, Continental, Mediterranean    0.000063\n",
      "Name: cuisines, Length: 5258, dtype: float64 \n",
      "\n",
      "approx_cost\n",
      "300                                                                                                                                                                                                                                                                                               0.118226\n",
      "400                                                                                                                                                                                                                                                                                               0.106259\n",
      "200                                                                                                                                                                                                                                                                                               0.084644\n",
      "500                                                                                                                                                                                                                                                                                               0.078316\n",
      "600                                                                                                                                                                                                                                                                                               0.051375\n",
      "                                                                                                                                                                                                                                                                                                    ...   \n",
      " 'RATED\\n  I went with my team members to do e at nouvelle garden restaurant the food and the service were amazing nice menu on the independence day. Theme buffet with the menu made us so amazing .\\nthe staff was courteous .\\nValue for money\\nThey offered some discounts for our group')    0.000063\n",
      " \"\"RATED\\n  I could have written a lot on either situations                                                                                                                                                                                                                                       0.000063\n",
      " 'RATED\\n  You wouldnÃƒÂƒ\\x83ÃƒÂ‚\\x83ÃƒÂƒ\\x82ÃƒÂ‚\\x82ÃƒÂƒ\\x83ÃƒÂ‚\\x82ÃƒÂƒ\\x82ÃƒÂ‚\\x92t find many veg only places in the city - this is one of them with amazing food from across the country                                                                                                      0.000063\n",
      " \"\"RATED\\n  Good ambience                                                                                                                                                                                                                                                                         0.000063\n",
      "1,450                                                                                                                                                                                                                                                                                             0.000063\n",
      "Name: approx_cost, Length: 2717, dtype: float64 \n",
      "\n",
      "type\n",
      "Dine-out                                                                                                                                                                                                                                                                                                                                                                                                                                            0.381931\n",
      "Delivery                                                                                                                                                                                                                                                                                                                                                                                                                                            0.237955\n",
      "Desserts                                                                                                                                                                                                                                                                                                                                                                                                                                            0.071048\n",
      "NA                                                                                                                                                                                                                                                                                                                                                                                                                                                  0.055510\n",
      " ('Rated 4.0'                                                                                                                                                                                                                                                                                                                                                                                                                                       0.022116\n",
      "                                                                                                                                                                                                                                                                                                                                                                                                                                                      ...   \n",
      "it smelled bad and shake was just water and a Oreo thrown in it')                                                                                                                                                                                                                                                                                                                                                                                   0.000063\n",
      " 'RATED\\n  There are better andhra restaurants at the same price. i had bed Spencerian here . they serve very less quantity                                                                                                                                                                                                                                                                                                                         0.000063\n",
      " it was something like a mess section. Ordered Malabar chicken biriyani                                                                                                                                                                                                                                                                                                                                                                             0.000063\n",
      " 'RATED\\n  The Pump House - One of the most happening huge place in JP nagar. Had heard a lot about this place and finally had a chance to visit.\\nAmbience is pretty huge and lively with a good music and lightnings. They have separate smoking zone and indoor and outdoor seating options as well. One of the best place to hangout.\\nHoney chilli lotus stem starter tried for the first time and was impressive. Had really great flavors    0.000063\n",
      " varieties in beer and yummy pizzas make this beer cafe amazing place to sit n drink .. service is good especially Rajen is very courteous n friendly .. overall it's a highly recommended place to all beer lovers ..\"\")                                                                                                                                                                                                                           0.000063\n",
      "Name: type, Length: 2612, dtype: float64 \n",
      "\n"
     ]
    }
   ],
   "source": [
    "for i in cleaned_zomato.columns:\n",
    "    print(i)\n",
    "    print(cleaned_zomato[i].value_counts(normalize=True),'\\n')"
   ]
  },
  {
   "cell_type": "code",
   "execution_count": 39,
   "id": "02b7bc2d",
   "metadata": {},
   "outputs": [
    {
     "data": {
      "text/plain": [
       "191532"
      ]
     },
     "execution_count": 39,
     "metadata": {},
     "output_type": "execute_result"
    }
   ],
   "source": [
    "cleaned_zomato.size"
   ]
  },
  {
   "cell_type": "code",
   "execution_count": 40,
   "id": "da2b43e2",
   "metadata": {},
   "outputs": [],
   "source": [
    "for i in cleaned_zomato.columns:\n",
    "    if i!= 'Id':\n",
    "        cleaned_zomato = cleaned_zomato[cleaned_zomato[i].str.contains('RATED|Rated')==False]"
   ]
  },
  {
   "cell_type": "code",
   "execution_count": 41,
   "id": "4aad8cf8",
   "metadata": {},
   "outputs": [
    {
     "data": {
      "text/plain": [
       "115944"
      ]
     },
     "execution_count": 41,
     "metadata": {},
     "output_type": "execute_result"
    }
   ],
   "source": [
    "cleaned_zomato.size"
   ]
  },
  {
   "attachments": {},
   "cell_type": "markdown",
   "id": "5a2e421d",
   "metadata": {},
   "source": [
    "## Task 5: Unique value check and irrelevant value handling"
   ]
  },
  {
   "cell_type": "code",
   "execution_count": 42,
   "id": "762c4ab2",
   "metadata": {},
   "outputs": [
    {
     "data": {
      "text/plain": [
       "array(['No', 'Yes', 'tawa ke veg',\n",
       "       ' classy. Communiti should be your go to place if you are in Bangalore. They have the best micro brewery!! The vibe is so positive and welcoming. Located in the prime location',\n",
       "       ' Mochar Chop', ' Food: 3.5/5'], dtype=object)"
      ]
     },
     "execution_count": 42,
     "metadata": {},
     "output_type": "execute_result"
    }
   ],
   "source": [
    "cleaned_zomato['online_order'].unique()"
   ]
  },
  {
   "cell_type": "code",
   "execution_count": 43,
   "id": "acf4bb80",
   "metadata": {},
   "outputs": [
    {
     "data": {
      "text/plain": [
       "array(['No', 'Yes'], dtype=object)"
      ]
     },
     "execution_count": 43,
     "metadata": {},
     "output_type": "execute_result"
    }
   ],
   "source": [
    "cleaned_zomato = cleaned_zomato[cleaned_zomato['online_order'].str.contains('Yes|No')==True]\n",
    "cleaned_zomato['online_order'] = cleaned_zomato['online_order'].str.strip()\n",
    "cleaned_zomato['online_order'].unique()"
   ]
  },
  {
   "cell_type": "code",
   "execution_count": 44,
   "id": "64e92833",
   "metadata": {},
   "outputs": [
    {
     "data": {
      "text/plain": [
       "array(['3.3/5', '3.7/5', '3.6/5', '2.9/5', 'NEW', '3.8/5', '3.2/5',\n",
       "       '4.1/5', '3.9/5', '3.4/5', '4.2/5', '3.1/5', '4.0/5', '3.5/5',\n",
       "       '3.0/5', '2.6/5', '4.7/5', '4.3/5', '2.8/5', '2.4/5', '2.7/5',\n",
       "       '2.5/5', '4.6/5', '4.5/5', '4.4/5', '4.8/5', '3.9 /5', '4.0 /5',\n",
       "       '4.1 /5', '2.9 /5', '3.7 /5', '2.8 /5', '3.8 /5', '4.2 /5',\n",
       "       '3.5 /5', '3.4 /5', '-', '3.6 /5', '3.3 /5', '3.2 /5', '3.1 /5',\n",
       "       '2.3/5', '4.9/5', '4.4 /5', '4.5 /5', '3.0 /5', '4.3 /5', '2.7 /5',\n",
       "       '2.2/5', '2.6 /5', '4.7 /5', '4.6 /5', '2.3 /5', '2.5 /5',\n",
       "       '2.4 /5', '4.8 /5', '4.9 /5', '2.0 /5', '2.1 /5', '1.8 /5',\n",
       "       '2.2 /5'], dtype=object)"
      ]
     },
     "execution_count": 44,
     "metadata": {},
     "output_type": "execute_result"
    }
   ],
   "source": [
    "cleaned_zomato['rating'].unique()"
   ]
  },
  {
   "cell_type": "code",
   "execution_count": 45,
   "id": "87cc80c5",
   "metadata": {},
   "outputs": [
    {
     "data": {
      "text/plain": [
       "array([3.3, 3.7, 3.6, 2.9, 0. , 3.8, 3.2, 4.1, 3.9, 3.4, 4.2, 3.1, 4. ,\n",
       "       3.5, 3. , 2.6, 4.7, 4.3, 2.8, 2.4, 2.7, 2.5, 4.6, 4.5, 4.4, 4.8,\n",
       "       2.3, 4.9, 2.2, 2. , 2.1, 1.8])"
      ]
     },
     "execution_count": 45,
     "metadata": {},
     "output_type": "execute_result"
    }
   ],
   "source": [
    "cleaned_zomato['rating'] = cleaned_zomato['rating'].str.replace('/5','')\n",
    "cleaned_zomato['rating'][cleaned_zomato['rating']=='-']\n",
    "cleaned_zomato['rating'] = cleaned_zomato['rating'].replace({'NEW' : '0', '-' : '0'})\n",
    "cleaned_zomato['rating'] = cleaned_zomato['rating'].str.strip()\n",
    "cleaned_zomato['rating'] = cleaned_zomato['rating'].astype('float64')\n",
    "cleaned_zomato['rating'].unique()"
   ]
  },
  {
   "cell_type": "code",
   "execution_count": 46,
   "id": "2fa538aa",
   "metadata": {},
   "outputs": [
    {
     "data": {
      "text/plain": [
       "array(['550', '850', '500', '700', '300', '100', '200', '400', '650',\n",
       "       '600', '800', '450', '150', '1,000', '250', '350', '80', '750',\n",
       "       '1,600', '900', '950', '1,100', '1,200', '1,300', '2,000', '70',\n",
       "       '3,000', '1,500', '2,200', '1,400', '2,500', '1,800', '560',\n",
       "       '1,700', '1,350', '1,050', '180', '1,250', '40', '230', '130',\n",
       "       '2,100', '2,300', '3,200', '4,000', '3,400', '2,400', '4,100',\n",
       "       '5,000', '3,700', '2,700', '4,500', '240', '3,500', '6,000',\n",
       "       '1,900', '120', '2,600', '1,650', '50', '199', '2,800', '330',\n",
       "       '1,450'], dtype=object)"
      ]
     },
     "execution_count": 46,
     "metadata": {},
     "output_type": "execute_result"
    }
   ],
   "source": [
    "cleaned_zomato['approx_cost'].unique()"
   ]
  },
  {
   "cell_type": "code",
   "execution_count": 47,
   "id": "27bea511",
   "metadata": {},
   "outputs": [
    {
     "data": {
      "text/plain": [
       "array([ 550,  850,  500,  700,  300,  100,  200,  400,  650,  600,  800,\n",
       "        450,  150, 1000,  250,  350,   80,  750, 1600,  900,  950, 1100,\n",
       "       1200, 1300, 2000,   70, 3000, 1500, 2200, 1400, 2500, 1800,  560,\n",
       "       1700, 1350, 1050,  180, 1250,   40,  230,  130, 2100, 2300, 3200,\n",
       "       4000, 3400, 2400, 4100, 5000, 3700, 2700, 4500,  240, 3500, 6000,\n",
       "       1900,  120, 2600, 1650,   50,  199, 2800,  330, 1450], dtype=int64)"
      ]
     },
     "execution_count": 47,
     "metadata": {},
     "output_type": "execute_result"
    }
   ],
   "source": [
    "cleaned_zomato['approx_cost'] = cleaned_zomato['approx_cost'].str.replace(',','')\n",
    "cleaned_zomato['approx_cost'] = cleaned_zomato['approx_cost'].str.strip()\n",
    "cleaned_zomato['approx_cost'] = cleaned_zomato['approx_cost'].astype('int64')\n",
    "cleaned_zomato['approx_cost'].unique()"
   ]
  },
  {
   "cell_type": "code",
   "execution_count": 48,
   "id": "abf2a976",
   "metadata": {},
   "outputs": [
    {
     "data": {
      "text/plain": [
       "array(['23', '679', '6', ..., '1218', '1003', '1094'], dtype=object)"
      ]
     },
     "execution_count": 48,
     "metadata": {},
     "output_type": "execute_result"
    }
   ],
   "source": [
    "cleaned_zomato['votes'].unique()"
   ]
  },
  {
   "cell_type": "code",
   "execution_count": 49,
   "id": "9c0fecb7",
   "metadata": {},
   "outputs": [
    {
     "data": {
      "text/plain": [
       "array([  23,  679,    6, ..., 1218, 1003, 1094], dtype=int64)"
      ]
     },
     "execution_count": 49,
     "metadata": {},
     "output_type": "execute_result"
    }
   ],
   "source": [
    "cleaned_zomato['votes'] = cleaned_zomato['votes'].astype('int64')\n",
    "cleaned_zomato['votes'].unique()"
   ]
  },
  {
   "cell_type": "code",
   "execution_count": 50,
   "id": "e82ad10b",
   "metadata": {},
   "outputs": [
    {
     "name": "stdout",
     "output_type": "stream",
     "text": [
      "<class 'pandas.core.frame.DataFrame'>\n",
      "Int64Index: 9658 entries, 29 to 56251\n",
      "Data columns (total 12 columns):\n",
      " #   Column        Non-Null Count  Dtype  \n",
      "---  ------        --------------  -----  \n",
      " 0   Id            9658 non-null   int64  \n",
      " 1   Name          9658 non-null   object \n",
      " 2   online_order  9658 non-null   object \n",
      " 3   book_table    9658 non-null   object \n",
      " 4   rating        9658 non-null   float64\n",
      " 5   votes         9658 non-null   int64  \n",
      " 6   location      9658 non-null   object \n",
      " 7   rest_type     9658 non-null   object \n",
      " 8   dish_liked    9658 non-null   object \n",
      " 9   cuisines      9658 non-null   object \n",
      " 10  approx_cost   9658 non-null   int64  \n",
      " 11  type          9658 non-null   object \n",
      "dtypes: float64(1), int64(3), object(8)\n",
      "memory usage: 980.9+ KB\n"
     ]
    }
   ],
   "source": [
    "cleaned_zomato.info()"
   ]
  },
  {
   "attachments": {},
   "cell_type": "markdown",
   "id": "fe27bb04",
   "metadata": {},
   "source": [
    "## Task 6: Cleaning and exporting zomato dataset"
   ]
  },
  {
   "cell_type": "code",
   "execution_count": 51,
   "id": "518e117d",
   "metadata": {},
   "outputs": [
    {
     "name": "stdout",
     "output_type": "stream",
     "text": [
      "Successfully exported\n"
     ]
    }
   ],
   "source": [
    "#Removing special characters from names (only keeping letters A-Z and a-z)\n",
    "cleaned_zomato['Name'] = cleaned_zomato['Name'].str.replace('[^A-Za-z]','')\n",
    "\n",
    "#Exporting cleaned dataset to a new csv file called 'cleanedzomato.csv'\n",
    "cleaned_zomato.to_csv('cleanedzomato.csv')\n",
    "print('Successfully exported')"
   ]
  }
 ],
 "metadata": {
  "kernelspec": {
   "display_name": "Python 3 (ipykernel)",
   "language": "python",
   "name": "python3"
  },
  "language_info": {
   "codemirror_mode": {
    "name": "ipython",
    "version": 3
   },
   "file_extension": ".py",
   "mimetype": "text/x-python",
   "name": "python",
   "nbconvert_exporter": "python",
   "pygments_lexer": "ipython3",
   "version": "3.10.9"
  }
 },
 "nbformat": 4,
 "nbformat_minor": 5
}
